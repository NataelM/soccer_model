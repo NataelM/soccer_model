{
 "cells": [
  {
   "cell_type": "markdown",
   "source": [
    "# Modelo Poisson para predicción de partidos de futbol"
   ],
   "metadata": {}
  },
  {
   "cell_type": "markdown",
   "source": [
    "El modelo poisson es una herramienta de la probabilidad que tiene multiples uso en la medición de vida util de un evento, no obstante, esta distribucion también es usada para teimpos de espera en problemas de procesos estocasticos, en este proyecto se utilizará la distribución Poisson como herramienta de medición de calculo para obtener la probabilidad de que un equipo anote $X$ determinada cantidad de goles. "
   ],
   "metadata": {}
  },
  {
   "cell_type": "markdown",
   "source": [
    "$$ f_x(X) = \\frac{e^{-\\lambda}\\lambda^{x}}{x!} = P[X = x] $$"
   ],
   "metadata": {}
  },
  {
   "cell_type": "code",
   "execution_count": 1,
   "source": [
    "#bibliotecas a utilizar\r\n",
    "import numpy as np\r\n",
    "import pandas as pd\r\n",
    "import math"
   ],
   "outputs": [],
   "metadata": {}
  },
  {
   "cell_type": "code",
   "execution_count": 2,
   "source": [
    "data = pd.read_excel('Info_clean_2.xlsx')\r\n",
    "data.head(5)"
   ],
   "outputs": [
    {
     "output_type": "execute_result",
     "data": {
      "text/html": [
       "<div>\n",
       "<style scoped>\n",
       "    .dataframe tbody tr th:only-of-type {\n",
       "        vertical-align: middle;\n",
       "    }\n",
       "\n",
       "    .dataframe tbody tr th {\n",
       "        vertical-align: top;\n",
       "    }\n",
       "\n",
       "    .dataframe thead th {\n",
       "        text-align: right;\n",
       "    }\n",
       "</style>\n",
       "<table border=\"1\" class=\"dataframe\">\n",
       "  <thead>\n",
       "    <tr style=\"text-align: right;\">\n",
       "      <th></th>\n",
       "      <th>idPartido</th>\n",
       "      <th>temporada</th>\n",
       "      <th>division</th>\n",
       "      <th>jornada</th>\n",
       "      <th>EquipoLocal</th>\n",
       "      <th>EquipoVisitante</th>\n",
       "      <th>Fecha3</th>\n",
       "      <th>Hora</th>\n",
       "      <th>Goles_L</th>\n",
       "      <th>Goles_V</th>\n",
       "      <th>Unnamed: 10</th>\n",
       "    </tr>\n",
       "  </thead>\n",
       "  <tbody>\n",
       "    <tr>\n",
       "      <th>0</th>\n",
       "      <td>1</td>\n",
       "      <td>2007_1_C</td>\n",
       "      <td>1</td>\n",
       "      <td>1</td>\n",
       "      <td>Estudiantes Tecos</td>\n",
       "      <td>U.A.N.L.</td>\n",
       "      <td>2007-01-19</td>\n",
       "      <td>16:55:00</td>\n",
       "      <td>2</td>\n",
       "      <td>1</td>\n",
       "      <td>NaN</td>\n",
       "    </tr>\n",
       "    <tr>\n",
       "      <th>1</th>\n",
       "      <td>2</td>\n",
       "      <td>2007_1_C</td>\n",
       "      <td>1</td>\n",
       "      <td>1</td>\n",
       "      <td>Querétaro</td>\n",
       "      <td>Veracruz</td>\n",
       "      <td>2007-01-20</td>\n",
       "      <td>15:00:00</td>\n",
       "      <td>0</td>\n",
       "      <td>0</td>\n",
       "      <td>NaN</td>\n",
       "    </tr>\n",
       "    <tr>\n",
       "      <th>2</th>\n",
       "      <td>3</td>\n",
       "      <td>2007_1_C</td>\n",
       "      <td>1</td>\n",
       "      <td>1</td>\n",
       "      <td>Necaxa</td>\n",
       "      <td>Chiapas</td>\n",
       "      <td>2007-01-20</td>\n",
       "      <td>16:55:00</td>\n",
       "      <td>3</td>\n",
       "      <td>1</td>\n",
       "      <td>NaN</td>\n",
       "    </tr>\n",
       "    <tr>\n",
       "      <th>3</th>\n",
       "      <td>4</td>\n",
       "      <td>2007_1_C</td>\n",
       "      <td>1</td>\n",
       "      <td>1</td>\n",
       "      <td>Morelia</td>\n",
       "      <td>Atlante</td>\n",
       "      <td>2007-01-20</td>\n",
       "      <td>16:55:00</td>\n",
       "      <td>3</td>\n",
       "      <td>1</td>\n",
       "      <td>NaN</td>\n",
       "    </tr>\n",
       "    <tr>\n",
       "      <th>4</th>\n",
       "      <td>5</td>\n",
       "      <td>2007_1_C</td>\n",
       "      <td>1</td>\n",
       "      <td>1</td>\n",
       "      <td>Monterrey</td>\n",
       "      <td>Santos Laguna</td>\n",
       "      <td>2007-01-20</td>\n",
       "      <td>16:55:00</td>\n",
       "      <td>1</td>\n",
       "      <td>0</td>\n",
       "      <td>NaN</td>\n",
       "    </tr>\n",
       "  </tbody>\n",
       "</table>\n",
       "</div>"
      ],
      "text/plain": [
       "   idPartido temporada  division  jornada        EquipoLocal EquipoVisitante  \\\n",
       "0          1  2007_1_C         1        1  Estudiantes Tecos        U.A.N.L.   \n",
       "1          2  2007_1_C         1        1          Querétaro        Veracruz   \n",
       "2          3  2007_1_C         1        1             Necaxa         Chiapas   \n",
       "3          4  2007_1_C         1        1            Morelia         Atlante   \n",
       "4          5  2007_1_C         1        1          Monterrey   Santos Laguna   \n",
       "\n",
       "      Fecha3      Hora  Goles_L  Goles_V  Unnamed: 10  \n",
       "0 2007-01-19  16:55:00        2        1          NaN  \n",
       "1 2007-01-20  15:00:00        0        0          NaN  \n",
       "2 2007-01-20  16:55:00        3        1          NaN  \n",
       "3 2007-01-20  16:55:00        3        1          NaN  \n",
       "4 2007-01-20  16:55:00        1        0          NaN  "
      ]
     },
     "metadata": {},
     "execution_count": 2
    }
   ],
   "metadata": {}
  },
  {
   "cell_type": "code",
   "execution_count": 3,
   "source": [
    "#revision de nulos\r\n",
    "data.info()"
   ],
   "outputs": [
    {
     "output_type": "stream",
     "name": "stdout",
     "text": [
      "<class 'pandas.core.frame.DataFrame'>\n",
      "RangeIndex: 3519 entries, 0 to 3518\n",
      "Data columns (total 11 columns):\n",
      " #   Column           Non-Null Count  Dtype         \n",
      "---  ------           --------------  -----         \n",
      " 0   idPartido        3519 non-null   int64         \n",
      " 1   temporada        3519 non-null   object        \n",
      " 2   division         3519 non-null   int64         \n",
      " 3   jornada          3519 non-null   int64         \n",
      " 4   EquipoLocal      3519 non-null   object        \n",
      " 5   EquipoVisitante  3519 non-null   object        \n",
      " 6   Fecha3           3519 non-null   datetime64[ns]\n",
      " 7   Hora             3519 non-null   object        \n",
      " 8   Goles_L          3519 non-null   int64         \n",
      " 9   Goles_V          3519 non-null   int64         \n",
      " 10  Unnamed: 10      0 non-null      float64       \n",
      "dtypes: datetime64[ns](1), float64(1), int64(5), object(4)\n",
      "memory usage: 302.5+ KB\n"
     ]
    }
   ],
   "metadata": {}
  },
  {
   "cell_type": "code",
   "execution_count": 4,
   "source": [
    "#borrando columna llena de nulos \r\n",
    "del data['Unnamed: 10']"
   ],
   "outputs": [],
   "metadata": {}
  },
  {
   "cell_type": "code",
   "execution_count": 5,
   "source": [
    "# check efectivo de que si se haya borrado la columna llena de nulos\r\n",
    "data.info()"
   ],
   "outputs": [
    {
     "output_type": "stream",
     "name": "stdout",
     "text": [
      "<class 'pandas.core.frame.DataFrame'>\n",
      "RangeIndex: 3519 entries, 0 to 3518\n",
      "Data columns (total 10 columns):\n",
      " #   Column           Non-Null Count  Dtype         \n",
      "---  ------           --------------  -----         \n",
      " 0   idPartido        3519 non-null   int64         \n",
      " 1   temporada        3519 non-null   object        \n",
      " 2   division         3519 non-null   int64         \n",
      " 3   jornada          3519 non-null   int64         \n",
      " 4   EquipoLocal      3519 non-null   object        \n",
      " 5   EquipoVisitante  3519 non-null   object        \n",
      " 6   Fecha3           3519 non-null   datetime64[ns]\n",
      " 7   Hora             3519 non-null   object        \n",
      " 8   Goles_L          3519 non-null   int64         \n",
      " 9   Goles_V          3519 non-null   int64         \n",
      "dtypes: datetime64[ns](1), int64(5), object(4)\n",
      "memory usage: 275.0+ KB\n"
     ]
    }
   ],
   "metadata": {}
  },
  {
   "cell_type": "code",
   "execution_count": 6,
   "source": [
    "#definicion de columnas con las cuales trabajar\r\n",
    "columns_work = ['idPartido' ,'temporada' ,'jornada' ,'EquipoLocal' ,'EquipoVisitante' ,'Goles_L' ,'Goles_V']\r\n",
    "soccer = data.copy()\r\n",
    "soccer = soccer[columns_work]"
   ],
   "outputs": [],
   "metadata": {}
  },
  {
   "cell_type": "code",
   "execution_count": 7,
   "source": [
    "soccer.head(2)"
   ],
   "outputs": [
    {
     "output_type": "execute_result",
     "data": {
      "text/html": [
       "<div>\n",
       "<style scoped>\n",
       "    .dataframe tbody tr th:only-of-type {\n",
       "        vertical-align: middle;\n",
       "    }\n",
       "\n",
       "    .dataframe tbody tr th {\n",
       "        vertical-align: top;\n",
       "    }\n",
       "\n",
       "    .dataframe thead th {\n",
       "        text-align: right;\n",
       "    }\n",
       "</style>\n",
       "<table border=\"1\" class=\"dataframe\">\n",
       "  <thead>\n",
       "    <tr style=\"text-align: right;\">\n",
       "      <th></th>\n",
       "      <th>idPartido</th>\n",
       "      <th>temporada</th>\n",
       "      <th>jornada</th>\n",
       "      <th>EquipoLocal</th>\n",
       "      <th>EquipoVisitante</th>\n",
       "      <th>Goles_L</th>\n",
       "      <th>Goles_V</th>\n",
       "    </tr>\n",
       "  </thead>\n",
       "  <tbody>\n",
       "    <tr>\n",
       "      <th>0</th>\n",
       "      <td>1</td>\n",
       "      <td>2007_1_C</td>\n",
       "      <td>1</td>\n",
       "      <td>Estudiantes Tecos</td>\n",
       "      <td>U.A.N.L.</td>\n",
       "      <td>2</td>\n",
       "      <td>1</td>\n",
       "    </tr>\n",
       "    <tr>\n",
       "      <th>1</th>\n",
       "      <td>2</td>\n",
       "      <td>2007_1_C</td>\n",
       "      <td>1</td>\n",
       "      <td>Querétaro</td>\n",
       "      <td>Veracruz</td>\n",
       "      <td>0</td>\n",
       "      <td>0</td>\n",
       "    </tr>\n",
       "  </tbody>\n",
       "</table>\n",
       "</div>"
      ],
      "text/plain": [
       "   idPartido temporada  jornada        EquipoLocal EquipoVisitante  Goles_L  \\\n",
       "0          1  2007_1_C        1  Estudiantes Tecos        U.A.N.L.        2   \n",
       "1          2  2007_1_C        1          Querétaro        Veracruz        0   \n",
       "\n",
       "   Goles_V  \n",
       "0        1  \n",
       "1        0  "
      ]
     },
     "metadata": {},
     "execution_count": 7
    }
   ],
   "metadata": {}
  },
  {
   "cell_type": "markdown",
   "source": [
    "Nota: la modelación de este proyecto esta basada en que se tomara un torneo anterior para modelar todo el torneo\r\n",
    "en tiempo presente. Esto se decidio despues de un analsisis y serie de pruebas con otros modelos "
   ],
   "metadata": {}
  },
  {
   "cell_type": "code",
   "execution_count": 8,
   "source": [
    "# filtrado, en la temporada (t-1)\r\n",
    "mask = (soccer['temporada'] == '2017_2_A')\r\n",
    "soccer = soccer[mask]"
   ],
   "outputs": [],
   "metadata": {}
  },
  {
   "cell_type": "code",
   "execution_count": 9,
   "source": [
    "# particion de la data y configuracion por local y visitante\r\n",
    "locales = soccer.copy() \r\n",
    "del locales['EquipoVisitante']\r\n",
    "locales = locales.rename(columns = {'EquipoLocal':'equipo',\r\n",
    "                                    'Goles_L':'goles_favor',\r\n",
    "                                    'Goles_V':'goles_contra'\r\n",
    "                                    })\r\n",
    "visitantes = soccer.copy() \r\n",
    "del visitantes['EquipoLocal']\r\n",
    "visitantes = visitantes.rename(columns = {'EquipoVisitante':'equipo',\r\n",
    "                                    'Goles_L':'goles_contra',\r\n",
    "                                    'Goles_V':'goles_favor'\r\n",
    "                                    })"
   ],
   "outputs": [],
   "metadata": {}
  },
  {
   "cell_type": "code",
   "execution_count": 10,
   "source": [
    "#promedio general de goles anotados como local y visitante\r\n",
    "prom_gol_l = soccer['Goles_L'].mean() \r\n",
    "prom_gol_v = soccer['Goles_V'].mean()"
   ],
   "outputs": [],
   "metadata": {}
  },
  {
   "cell_type": "code",
   "execution_count": 11,
   "source": [
    "prom_gol_v, prom_gol_l"
   ],
   "outputs": [
    {
     "output_type": "execute_result",
     "data": {
      "text/plain": [
       "(1.1503267973856208, 1.392156862745098)"
      ]
     },
     "metadata": {},
     "execution_count": 11
    }
   ],
   "metadata": {}
  },
  {
   "cell_type": "code",
   "execution_count": 12,
   "source": [
    "#promedio de goles por equipo del torneo pasado LOCALES\r\n",
    "soccer_l_prom = locales.groupby(['equipo']).agg({'goles_favor':'mean' ,'goles_contra':'mean'})\r\n",
    "soccer_l_prom = soccer_l_prom.rename(columns = {'goles_favor':'prom_gf_l',\r\n",
    "                                    'goles_contra':'prom_gc_l',\r\n",
    "                                    })\r\n",
    "#VISITANTES\r\n",
    "soccer_v_prom = visitantes.groupby(['equipo']).agg({'goles_favor':'mean' ,'goles_contra':'mean'})\r\n",
    "soccer_v_prom = soccer_v_prom.rename(columns = {'goles_favor':'prom_gf_v',\r\n",
    "                                    'goles_contra':'prom_gc_v',\r\n",
    "                                    })"
   ],
   "outputs": [],
   "metadata": {}
  },
  {
   "cell_type": "markdown",
   "source": [
    "Factor de ataque: una especie de pondracion para los goles anotados, es decir, es un promedio ponderado de los goles que un equipo memte como local/visitante entre el promedio general "
   ],
   "metadata": {}
  },
  {
   "cell_type": "code",
   "execution_count": 13,
   "source": [
    "#LOCALES\r\n",
    "#factor de ataque\r\n",
    "soccer_l_prom['f_a_l'] = soccer_l_prom['prom_gf_l'] / prom_gol_l\r\n",
    "#factor de defensa \r\n",
    "soccer_l_prom['f_d_l'] = soccer_l_prom['prom_gc_l'] / prom_gol_v"
   ],
   "outputs": [],
   "metadata": {}
  },
  {
   "cell_type": "code",
   "execution_count": 14,
   "source": [
    "#VISITANTES\r\n",
    "#factor de ataque\r\n",
    "soccer_v_prom['f_a_v'] = soccer_v_prom['prom_gf_v'] / prom_gol_v\r\n",
    "#factor de defensa \r\n",
    "soccer_v_prom['f_d_v'] = soccer_v_prom['prom_gc_v'] / prom_gol_l"
   ],
   "outputs": [],
   "metadata": {}
  },
  {
   "cell_type": "markdown",
   "source": [
    "ABT (analytical Base Table): tabla base para poder aplicar el modelo matematico que resolverá el promedio"
   ],
   "metadata": {}
  },
  {
   "cell_type": "code",
   "execution_count": 15,
   "source": [
    "abt = soccer_l_prom.merge(soccer_v_prom, on = ['equipo'])\r\n",
    "abt.head(2)"
   ],
   "outputs": [
    {
     "output_type": "execute_result",
     "data": {
      "text/html": [
       "<div>\n",
       "<style scoped>\n",
       "    .dataframe tbody tr th:only-of-type {\n",
       "        vertical-align: middle;\n",
       "    }\n",
       "\n",
       "    .dataframe tbody tr th {\n",
       "        vertical-align: top;\n",
       "    }\n",
       "\n",
       "    .dataframe thead th {\n",
       "        text-align: right;\n",
       "    }\n",
       "</style>\n",
       "<table border=\"1\" class=\"dataframe\">\n",
       "  <thead>\n",
       "    <tr style=\"text-align: right;\">\n",
       "      <th></th>\n",
       "      <th>prom_gf_l</th>\n",
       "      <th>prom_gc_l</th>\n",
       "      <th>f_a_l</th>\n",
       "      <th>f_d_l</th>\n",
       "      <th>prom_gf_v</th>\n",
       "      <th>prom_gc_v</th>\n",
       "      <th>f_a_v</th>\n",
       "      <th>f_d_v</th>\n",
       "    </tr>\n",
       "    <tr>\n",
       "      <th>equipo</th>\n",
       "      <th></th>\n",
       "      <th></th>\n",
       "      <th></th>\n",
       "      <th></th>\n",
       "      <th></th>\n",
       "      <th></th>\n",
       "      <th></th>\n",
       "      <th></th>\n",
       "    </tr>\n",
       "  </thead>\n",
       "  <tbody>\n",
       "    <tr>\n",
       "      <th>Atlas</th>\n",
       "      <td>1.000000</td>\n",
       "      <td>0.75</td>\n",
       "      <td>0.718310</td>\n",
       "      <td>0.651989</td>\n",
       "      <td>1.666667</td>\n",
       "      <td>1.444444</td>\n",
       "      <td>1.448864</td>\n",
       "      <td>1.037559</td>\n",
       "    </tr>\n",
       "    <tr>\n",
       "      <th>Club América</th>\n",
       "      <td>1.285714</td>\n",
       "      <td>1.00</td>\n",
       "      <td>0.923541</td>\n",
       "      <td>0.869318</td>\n",
       "      <td>1.400000</td>\n",
       "      <td>1.100000</td>\n",
       "      <td>1.217045</td>\n",
       "      <td>0.790141</td>\n",
       "    </tr>\n",
       "  </tbody>\n",
       "</table>\n",
       "</div>"
      ],
      "text/plain": [
       "              prom_gf_l  prom_gc_l     f_a_l     f_d_l  prom_gf_v  prom_gc_v  \\\n",
       "equipo                                                                         \n",
       "Atlas          1.000000       0.75  0.718310  0.651989   1.666667   1.444444   \n",
       "Club América   1.285714       1.00  0.923541  0.869318   1.400000   1.100000   \n",
       "\n",
       "                 f_a_v     f_d_v  \n",
       "equipo                            \n",
       "Atlas         1.448864  1.037559  \n",
       "Club América  1.217045  0.790141  "
      ]
     },
     "metadata": {},
     "execution_count": 15
    }
   ],
   "metadata": {}
  },
  {
   "cell_type": "markdown",
   "source": [
    "los torneos que se buscan predecir son aquellos que son los complementarios a un año calnedario futbol, es decir, el torneo en tiempo $t$"
   ],
   "metadata": {}
  },
  {
   "cell_type": "code",
   "execution_count": 16,
   "source": [
    "#los resultados que buscamos predecir son los del torneo 'actual'\r\n",
    "# por eso ahora tomaremos un data set con el torneo complementario del anio\r\n",
    "soccer_to_pred = data.copy()\r\n",
    "soccer_to_pred = soccer_to_pred[columns_work]\r\n",
    "mask_pred      = (soccer_to_pred['temporada'] == '2018_1_C')\r\n",
    "soccer_to_pred = soccer_to_pred[mask_pred]\r\n"
   ],
   "outputs": [],
   "metadata": {}
  },
  {
   "cell_type": "code",
   "execution_count": 17,
   "source": [
    "soccer_to_pred.head(3)"
   ],
   "outputs": [
    {
     "output_type": "execute_result",
     "data": {
      "text/html": [
       "<div>\n",
       "<style scoped>\n",
       "    .dataframe tbody tr th:only-of-type {\n",
       "        vertical-align: middle;\n",
       "    }\n",
       "\n",
       "    .dataframe tbody tr th {\n",
       "        vertical-align: top;\n",
       "    }\n",
       "\n",
       "    .dataframe thead th {\n",
       "        text-align: right;\n",
       "    }\n",
       "</style>\n",
       "<table border=\"1\" class=\"dataframe\">\n",
       "  <thead>\n",
       "    <tr style=\"text-align: right;\">\n",
       "      <th></th>\n",
       "      <th>idPartido</th>\n",
       "      <th>temporada</th>\n",
       "      <th>jornada</th>\n",
       "      <th>EquipoLocal</th>\n",
       "      <th>EquipoVisitante</th>\n",
       "      <th>Goles_L</th>\n",
       "      <th>Goles_V</th>\n",
       "    </tr>\n",
       "  </thead>\n",
       "  <tbody>\n",
       "    <tr>\n",
       "      <th>3366</th>\n",
       "      <td>3367</td>\n",
       "      <td>2018_1_C</td>\n",
       "      <td>1</td>\n",
       "      <td>Puebla</td>\n",
       "      <td>U.A.N.L.</td>\n",
       "      <td>2</td>\n",
       "      <td>1</td>\n",
       "    </tr>\n",
       "    <tr>\n",
       "      <th>3367</th>\n",
       "      <td>3368</td>\n",
       "      <td>2018_1_C</td>\n",
       "      <td>1</td>\n",
       "      <td>Atlas</td>\n",
       "      <td>León</td>\n",
       "      <td>1</td>\n",
       "      <td>2</td>\n",
       "    </tr>\n",
       "    <tr>\n",
       "      <th>3368</th>\n",
       "      <td>3369</td>\n",
       "      <td>2018_1_C</td>\n",
       "      <td>1</td>\n",
       "      <td>Cruz Azul</td>\n",
       "      <td>Tijuana</td>\n",
       "      <td>0</td>\n",
       "      <td>0</td>\n",
       "    </tr>\n",
       "  </tbody>\n",
       "</table>\n",
       "</div>"
      ],
      "text/plain": [
       "      idPartido temporada  jornada EquipoLocal EquipoVisitante  Goles_L  \\\n",
       "3366       3367  2018_1_C        1      Puebla        U.A.N.L.        2   \n",
       "3367       3368  2018_1_C        1       Atlas            León        1   \n",
       "3368       3369  2018_1_C        1   Cruz Azul         Tijuana        0   \n",
       "\n",
       "      Goles_V  \n",
       "3366        1  \n",
       "3367        2  \n",
       "3368        0  "
      ]
     },
     "metadata": {},
     "execution_count": 17
    }
   ],
   "metadata": {}
  },
  {
   "cell_type": "code",
   "execution_count": 18,
   "source": [
    "#unimos las tablas de la condicion de visitante y local para tener \r\n",
    "# todos los factores que implican al modelado\r\n",
    "\r\n",
    "merge_1 =  soccer_to_pred.merge(abt, left_on = 'EquipoLocal', right_on = 'equipo')"
   ],
   "outputs": [],
   "metadata": {}
  },
  {
   "cell_type": "code",
   "execution_count": 19,
   "source": [
    "merge_1.head(3)"
   ],
   "outputs": [
    {
     "output_type": "execute_result",
     "data": {
      "text/html": [
       "<div>\n",
       "<style scoped>\n",
       "    .dataframe tbody tr th:only-of-type {\n",
       "        vertical-align: middle;\n",
       "    }\n",
       "\n",
       "    .dataframe tbody tr th {\n",
       "        vertical-align: top;\n",
       "    }\n",
       "\n",
       "    .dataframe thead th {\n",
       "        text-align: right;\n",
       "    }\n",
       "</style>\n",
       "<table border=\"1\" class=\"dataframe\">\n",
       "  <thead>\n",
       "    <tr style=\"text-align: right;\">\n",
       "      <th></th>\n",
       "      <th>idPartido</th>\n",
       "      <th>temporada</th>\n",
       "      <th>jornada</th>\n",
       "      <th>EquipoLocal</th>\n",
       "      <th>EquipoVisitante</th>\n",
       "      <th>Goles_L</th>\n",
       "      <th>Goles_V</th>\n",
       "      <th>prom_gf_l</th>\n",
       "      <th>prom_gc_l</th>\n",
       "      <th>f_a_l</th>\n",
       "      <th>f_d_l</th>\n",
       "      <th>prom_gf_v</th>\n",
       "      <th>prom_gc_v</th>\n",
       "      <th>f_a_v</th>\n",
       "      <th>f_d_v</th>\n",
       "    </tr>\n",
       "  </thead>\n",
       "  <tbody>\n",
       "    <tr>\n",
       "      <th>0</th>\n",
       "      <td>3367</td>\n",
       "      <td>2018_1_C</td>\n",
       "      <td>1</td>\n",
       "      <td>Puebla</td>\n",
       "      <td>U.A.N.L.</td>\n",
       "      <td>2</td>\n",
       "      <td>1</td>\n",
       "      <td>1.111111</td>\n",
       "      <td>0.888889</td>\n",
       "      <td>0.798122</td>\n",
       "      <td>0.772727</td>\n",
       "      <td>0.5</td>\n",
       "      <td>1.5</td>\n",
       "      <td>0.434659</td>\n",
       "      <td>1.077465</td>\n",
       "    </tr>\n",
       "    <tr>\n",
       "      <th>1</th>\n",
       "      <td>3385</td>\n",
       "      <td>2018_1_C</td>\n",
       "      <td>3</td>\n",
       "      <td>Puebla</td>\n",
       "      <td>Veracruz</td>\n",
       "      <td>2</td>\n",
       "      <td>0</td>\n",
       "      <td>1.111111</td>\n",
       "      <td>0.888889</td>\n",
       "      <td>0.798122</td>\n",
       "      <td>0.772727</td>\n",
       "      <td>0.5</td>\n",
       "      <td>1.5</td>\n",
       "      <td>0.434659</td>\n",
       "      <td>1.077465</td>\n",
       "    </tr>\n",
       "    <tr>\n",
       "      <th>2</th>\n",
       "      <td>3403</td>\n",
       "      <td>2018_1_C</td>\n",
       "      <td>5</td>\n",
       "      <td>Puebla</td>\n",
       "      <td>Guadalajara</td>\n",
       "      <td>2</td>\n",
       "      <td>0</td>\n",
       "      <td>1.111111</td>\n",
       "      <td>0.888889</td>\n",
       "      <td>0.798122</td>\n",
       "      <td>0.772727</td>\n",
       "      <td>0.5</td>\n",
       "      <td>1.5</td>\n",
       "      <td>0.434659</td>\n",
       "      <td>1.077465</td>\n",
       "    </tr>\n",
       "  </tbody>\n",
       "</table>\n",
       "</div>"
      ],
      "text/plain": [
       "   idPartido temporada  jornada EquipoLocal EquipoVisitante  Goles_L  Goles_V  \\\n",
       "0       3367  2018_1_C        1      Puebla        U.A.N.L.        2        1   \n",
       "1       3385  2018_1_C        3      Puebla        Veracruz        2        0   \n",
       "2       3403  2018_1_C        5      Puebla     Guadalajara        2        0   \n",
       "\n",
       "   prom_gf_l  prom_gc_l     f_a_l     f_d_l  prom_gf_v  prom_gc_v     f_a_v  \\\n",
       "0   1.111111   0.888889  0.798122  0.772727        0.5        1.5  0.434659   \n",
       "1   1.111111   0.888889  0.798122  0.772727        0.5        1.5  0.434659   \n",
       "2   1.111111   0.888889  0.798122  0.772727        0.5        1.5  0.434659   \n",
       "\n",
       "      f_d_v  \n",
       "0  1.077465  \n",
       "1  1.077465  \n",
       "2  1.077465  "
      ]
     },
     "metadata": {},
     "execution_count": 19
    }
   ],
   "metadata": {}
  },
  {
   "cell_type": "code",
   "execution_count": 20,
   "source": [
    "columns_pred_work = ['idPartido', 'temporada',\r\n",
    "\t\t 'jornada', 'EquipoLocal', 'EquipoVisitante',\r\n",
    "\t\t 'Goles_L', 'Goles_V', 'f_a_l', 'f_d_l'] #,'f_a_v', 'f_d_v'"
   ],
   "outputs": [],
   "metadata": {}
  },
  {
   "cell_type": "code",
   "execution_count": 21,
   "source": [
    "merge_1 = merge_1[columns_pred_work]"
   ],
   "outputs": [],
   "metadata": {}
  },
  {
   "cell_type": "code",
   "execution_count": 22,
   "source": [
    "# uniendo la data de los visitantes\r\n",
    "merge_2 = merge_1.merge(abt, left_on = 'EquipoVisitante', right_on = 'equipo')"
   ],
   "outputs": [],
   "metadata": {}
  },
  {
   "cell_type": "code",
   "execution_count": 23,
   "source": [
    "merge_2.head(2)"
   ],
   "outputs": [
    {
     "output_type": "execute_result",
     "data": {
      "text/html": [
       "<div>\n",
       "<style scoped>\n",
       "    .dataframe tbody tr th:only-of-type {\n",
       "        vertical-align: middle;\n",
       "    }\n",
       "\n",
       "    .dataframe tbody tr th {\n",
       "        vertical-align: top;\n",
       "    }\n",
       "\n",
       "    .dataframe thead th {\n",
       "        text-align: right;\n",
       "    }\n",
       "</style>\n",
       "<table border=\"1\" class=\"dataframe\">\n",
       "  <thead>\n",
       "    <tr style=\"text-align: right;\">\n",
       "      <th></th>\n",
       "      <th>idPartido</th>\n",
       "      <th>temporada</th>\n",
       "      <th>jornada</th>\n",
       "      <th>EquipoLocal</th>\n",
       "      <th>EquipoVisitante</th>\n",
       "      <th>Goles_L</th>\n",
       "      <th>Goles_V</th>\n",
       "      <th>f_a_l_x</th>\n",
       "      <th>f_d_l_x</th>\n",
       "      <th>prom_gf_l</th>\n",
       "      <th>prom_gc_l</th>\n",
       "      <th>f_a_l_y</th>\n",
       "      <th>f_d_l_y</th>\n",
       "      <th>prom_gf_v</th>\n",
       "      <th>prom_gc_v</th>\n",
       "      <th>f_a_v</th>\n",
       "      <th>f_d_v</th>\n",
       "    </tr>\n",
       "  </thead>\n",
       "  <tbody>\n",
       "    <tr>\n",
       "      <th>0</th>\n",
       "      <td>3367</td>\n",
       "      <td>2018_1_C</td>\n",
       "      <td>1</td>\n",
       "      <td>Puebla</td>\n",
       "      <td>U.A.N.L.</td>\n",
       "      <td>2</td>\n",
       "      <td>1</td>\n",
       "      <td>0.798122</td>\n",
       "      <td>0.772727</td>\n",
       "      <td>2.125</td>\n",
       "      <td>0.375</td>\n",
       "      <td>1.526408</td>\n",
       "      <td>0.325994</td>\n",
       "      <td>1.222222</td>\n",
       "      <td>1.444444</td>\n",
       "      <td>1.0625</td>\n",
       "      <td>1.037559</td>\n",
       "    </tr>\n",
       "    <tr>\n",
       "      <th>1</th>\n",
       "      <td>3508</td>\n",
       "      <td>2018_1_C</td>\n",
       "      <td>16</td>\n",
       "      <td>Necaxa</td>\n",
       "      <td>U.A.N.L.</td>\n",
       "      <td>1</td>\n",
       "      <td>1</td>\n",
       "      <td>0.957746</td>\n",
       "      <td>0.772727</td>\n",
       "      <td>2.125</td>\n",
       "      <td>0.375</td>\n",
       "      <td>1.526408</td>\n",
       "      <td>0.325994</td>\n",
       "      <td>1.222222</td>\n",
       "      <td>1.444444</td>\n",
       "      <td>1.0625</td>\n",
       "      <td>1.037559</td>\n",
       "    </tr>\n",
       "  </tbody>\n",
       "</table>\n",
       "</div>"
      ],
      "text/plain": [
       "   idPartido temporada  jornada EquipoLocal EquipoVisitante  Goles_L  Goles_V  \\\n",
       "0       3367  2018_1_C        1      Puebla        U.A.N.L.        2        1   \n",
       "1       3508  2018_1_C       16      Necaxa        U.A.N.L.        1        1   \n",
       "\n",
       "    f_a_l_x   f_d_l_x  prom_gf_l  prom_gc_l   f_a_l_y   f_d_l_y  prom_gf_v  \\\n",
       "0  0.798122  0.772727      2.125      0.375  1.526408  0.325994   1.222222   \n",
       "1  0.957746  0.772727      2.125      0.375  1.526408  0.325994   1.222222   \n",
       "\n",
       "   prom_gc_v   f_a_v     f_d_v  \n",
       "0   1.444444  1.0625  1.037559  \n",
       "1   1.444444  1.0625  1.037559  "
      ]
     },
     "metadata": {},
     "execution_count": 23
    }
   ],
   "metadata": {}
  },
  {
   "cell_type": "code",
   "execution_count": 24,
   "source": [
    "columns_pred_work = ['idPartido', 'temporada',\r\n",
    "\t\t 'jornada', 'EquipoLocal', 'EquipoVisitante',\r\n",
    "\t\t 'Goles_L', 'Goles_V', 'f_a_l_x', 'f_d_l_x', 'f_a_v', 'f_d_v']"
   ],
   "outputs": [],
   "metadata": {}
  },
  {
   "cell_type": "code",
   "execution_count": 25,
   "source": [
    "merge_2 = merge_2[columns_pred_work]"
   ],
   "outputs": [],
   "metadata": {}
  },
  {
   "cell_type": "markdown",
   "source": [
    "Calculo de las lambdas para los parametros de la poisson: en este proyecto el parametro lambda es el promedio ponderado de los goles por equipo"
   ],
   "metadata": {}
  },
  {
   "cell_type": "code",
   "execution_count": 26,
   "source": [
    "lambdas = merge_2.copy()\r\n",
    "\r\n",
    "# el factor de ataque local * factor de defensa de la visita * promedio de goles formaran la lambda\r\n",
    "lambdas['lambda_l'] = lambdas['f_a_l_x'] * lambdas['f_d_v'] * prom_gol_l\r\n",
    "lambdas['lambda_v'] = lambdas['f_a_v'] * lambdas['f_d_l_x'] * prom_gol_v"
   ],
   "outputs": [],
   "metadata": {}
  },
  {
   "cell_type": "code",
   "execution_count": 27,
   "source": [
    "#maximo y minimo de goles del torneo anterior\r\n",
    "# para establecer como rango de la poisson, es decir,\r\n",
    "# por donde debe de correr la x\r\n",
    "max_goals = soccer['Goles_L'].max()\r\n",
    "min_goals = soccer['Goles_L'].min()"
   ],
   "outputs": [],
   "metadata": {}
  },
  {
   "cell_type": "code",
   "execution_count": 28,
   "source": [
    "min_goals, max_goals"
   ],
   "outputs": [
    {
     "output_type": "execute_result",
     "data": {
      "text/plain": [
       "(0, 6)"
      ]
     },
     "metadata": {},
     "execution_count": 28
    }
   ],
   "metadata": {}
  },
  {
   "cell_type": "code",
   "execution_count": 29,
   "source": [
    "def pois_goals_p(lambd:float ,num_goals:int) -> float:\r\n",
    "    ''' Esta función calcula la probabilidad de meter \r\n",
    "    num_goals en un partido con el parametro lambda dado\r\n",
    "    \r\n",
    "    >>> pois_goals_p(3, 4)\r\n",
    "    0.16803135574154082\r\n",
    "\r\n",
    "    esto se puede traducir como:\r\n",
    "    la probabilidad de meter 4 goles dado que el \r\n",
    "    promedio de goles del equipo es de 3\r\n",
    "    '''\r\n",
    "    return ( ( (math.exp(-lambd)) * (lambd ** num_goals) ) / (math.factorial(num_goals)) )"
   ],
   "outputs": [],
   "metadata": {}
  },
  {
   "cell_type": "code",
   "execution_count": 30,
   "source": [
    "#probabilidades de meter n goles para el equipo local\r\n",
    "for i in range(min_goals ,max_goals + 1):\r\n",
    "    lambdas[f'P_GL({i})'] = lambdas['lambda_l'].apply(pois_goals_p, num_goals = i)\r\n"
   ],
   "outputs": [],
   "metadata": {}
  },
  {
   "cell_type": "code",
   "execution_count": 31,
   "source": [
    "#probabilidades de meter n goles para el equipo visitante\r\n",
    "for i in range(min_goals ,max_goals + 1):\r\n",
    "    lambdas[f'P_GV({i})'] = lambdas['lambda_v'].apply(pois_goals_p, num_goals = i)"
   ],
   "outputs": [],
   "metadata": {}
  },
  {
   "cell_type": "code",
   "execution_count": 32,
   "source": [
    "pre_final = lambdas.copy()\r\n",
    "pre_final = pre_final[['idPartido', 'temporada', 'jornada', 'EquipoLocal', 'EquipoVisitante','Goles_L', 'Goles_V', \r\n",
    "                        'P_GL(0)', 'P_GL(1)', 'P_GL(2)', 'P_GL(3)', 'P_GL(4)', 'P_GL(5)', 'P_GL(6)', \r\n",
    "                        'P_GV(0)', 'P_GV(1)', 'P_GV(2)', 'P_GV(3)', 'P_GV(4)', 'P_GV(5)', 'P_GV(6)']]"
   ],
   "outputs": [],
   "metadata": {}
  },
  {
   "cell_type": "code",
   "execution_count": 33,
   "source": [
    "pre_final.head(2)"
   ],
   "outputs": [
    {
     "output_type": "execute_result",
     "data": {
      "text/html": [
       "<div>\n",
       "<style scoped>\n",
       "    .dataframe tbody tr th:only-of-type {\n",
       "        vertical-align: middle;\n",
       "    }\n",
       "\n",
       "    .dataframe tbody tr th {\n",
       "        vertical-align: top;\n",
       "    }\n",
       "\n",
       "    .dataframe thead th {\n",
       "        text-align: right;\n",
       "    }\n",
       "</style>\n",
       "<table border=\"1\" class=\"dataframe\">\n",
       "  <thead>\n",
       "    <tr style=\"text-align: right;\">\n",
       "      <th></th>\n",
       "      <th>idPartido</th>\n",
       "      <th>temporada</th>\n",
       "      <th>jornada</th>\n",
       "      <th>EquipoLocal</th>\n",
       "      <th>EquipoVisitante</th>\n",
       "      <th>Goles_L</th>\n",
       "      <th>Goles_V</th>\n",
       "      <th>P_GL(0)</th>\n",
       "      <th>P_GL(1)</th>\n",
       "      <th>P_GL(2)</th>\n",
       "      <th>...</th>\n",
       "      <th>P_GL(4)</th>\n",
       "      <th>P_GL(5)</th>\n",
       "      <th>P_GL(6)</th>\n",
       "      <th>P_GV(0)</th>\n",
       "      <th>P_GV(1)</th>\n",
       "      <th>P_GV(2)</th>\n",
       "      <th>P_GV(3)</th>\n",
       "      <th>P_GV(4)</th>\n",
       "      <th>P_GV(5)</th>\n",
       "      <th>P_GV(6)</th>\n",
       "    </tr>\n",
       "  </thead>\n",
       "  <tbody>\n",
       "    <tr>\n",
       "      <th>0</th>\n",
       "      <td>3367</td>\n",
       "      <td>2018_1_C</td>\n",
       "      <td>1</td>\n",
       "      <td>Puebla</td>\n",
       "      <td>U.A.N.L.</td>\n",
       "      <td>2</td>\n",
       "      <td>1</td>\n",
       "      <td>0.315738</td>\n",
       "      <td>0.363996</td>\n",
       "      <td>0.209815</td>\n",
       "      <td>...</td>\n",
       "      <td>0.023238</td>\n",
       "      <td>0.005358</td>\n",
       "      <td>0.001029</td>\n",
       "      <td>0.388896</td>\n",
       "      <td>0.36729</td>\n",
       "      <td>0.173443</td>\n",
       "      <td>0.054602</td>\n",
       "      <td>0.012892</td>\n",
       "      <td>0.002435</td>\n",
       "      <td>0.000383</td>\n",
       "    </tr>\n",
       "    <tr>\n",
       "      <th>1</th>\n",
       "      <td>3508</td>\n",
       "      <td>2018_1_C</td>\n",
       "      <td>16</td>\n",
       "      <td>Necaxa</td>\n",
       "      <td>U.A.N.L.</td>\n",
       "      <td>1</td>\n",
       "      <td>1</td>\n",
       "      <td>0.250722</td>\n",
       "      <td>0.346851</td>\n",
       "      <td>0.239919</td>\n",
       "      <td>...</td>\n",
       "      <td>0.038264</td>\n",
       "      <td>0.010587</td>\n",
       "      <td>0.002441</td>\n",
       "      <td>0.388896</td>\n",
       "      <td>0.36729</td>\n",
       "      <td>0.173443</td>\n",
       "      <td>0.054602</td>\n",
       "      <td>0.012892</td>\n",
       "      <td>0.002435</td>\n",
       "      <td>0.000383</td>\n",
       "    </tr>\n",
       "  </tbody>\n",
       "</table>\n",
       "<p>2 rows × 21 columns</p>\n",
       "</div>"
      ],
      "text/plain": [
       "   idPartido temporada  jornada EquipoLocal EquipoVisitante  Goles_L  Goles_V  \\\n",
       "0       3367  2018_1_C        1      Puebla        U.A.N.L.        2        1   \n",
       "1       3508  2018_1_C       16      Necaxa        U.A.N.L.        1        1   \n",
       "\n",
       "    P_GL(0)   P_GL(1)   P_GL(2)  ...   P_GL(4)   P_GL(5)   P_GL(6)   P_GV(0)  \\\n",
       "0  0.315738  0.363996  0.209815  ...  0.023238  0.005358  0.001029  0.388896   \n",
       "1  0.250722  0.346851  0.239919  ...  0.038264  0.010587  0.002441  0.388896   \n",
       "\n",
       "   P_GV(1)   P_GV(2)   P_GV(3)   P_GV(4)   P_GV(5)   P_GV(6)  \n",
       "0  0.36729  0.173443  0.054602  0.012892  0.002435  0.000383  \n",
       "1  0.36729  0.173443  0.054602  0.012892  0.002435  0.000383  \n",
       "\n",
       "[2 rows x 21 columns]"
      ]
     },
     "metadata": {},
     "execution_count": 33
    }
   ],
   "metadata": {}
  },
  {
   "cell_type": "code",
   "execution_count": 34,
   "source": [
    "# inicializamos nuevas variables para establecer la proba de que gane el local\r\n",
    "# visitante o haya empate\r\n",
    "pre_final['P_Local'] = 0\r\n",
    "pre_final['P_Visit'] = 0\r\n",
    "pre_final['P_Empat'] = 0"
   ],
   "outputs": [],
   "metadata": {}
  },
  {
   "cell_type": "code",
   "execution_count": 35,
   "source": [
    "pre_final.head(2)"
   ],
   "outputs": [
    {
     "output_type": "execute_result",
     "data": {
      "text/html": [
       "<div>\n",
       "<style scoped>\n",
       "    .dataframe tbody tr th:only-of-type {\n",
       "        vertical-align: middle;\n",
       "    }\n",
       "\n",
       "    .dataframe tbody tr th {\n",
       "        vertical-align: top;\n",
       "    }\n",
       "\n",
       "    .dataframe thead th {\n",
       "        text-align: right;\n",
       "    }\n",
       "</style>\n",
       "<table border=\"1\" class=\"dataframe\">\n",
       "  <thead>\n",
       "    <tr style=\"text-align: right;\">\n",
       "      <th></th>\n",
       "      <th>idPartido</th>\n",
       "      <th>temporada</th>\n",
       "      <th>jornada</th>\n",
       "      <th>EquipoLocal</th>\n",
       "      <th>EquipoVisitante</th>\n",
       "      <th>Goles_L</th>\n",
       "      <th>Goles_V</th>\n",
       "      <th>P_GL(0)</th>\n",
       "      <th>P_GL(1)</th>\n",
       "      <th>P_GL(2)</th>\n",
       "      <th>...</th>\n",
       "      <th>P_GV(0)</th>\n",
       "      <th>P_GV(1)</th>\n",
       "      <th>P_GV(2)</th>\n",
       "      <th>P_GV(3)</th>\n",
       "      <th>P_GV(4)</th>\n",
       "      <th>P_GV(5)</th>\n",
       "      <th>P_GV(6)</th>\n",
       "      <th>P_Local</th>\n",
       "      <th>P_Visit</th>\n",
       "      <th>P_Empat</th>\n",
       "    </tr>\n",
       "  </thead>\n",
       "  <tbody>\n",
       "    <tr>\n",
       "      <th>0</th>\n",
       "      <td>3367</td>\n",
       "      <td>2018_1_C</td>\n",
       "      <td>1</td>\n",
       "      <td>Puebla</td>\n",
       "      <td>U.A.N.L.</td>\n",
       "      <td>2</td>\n",
       "      <td>1</td>\n",
       "      <td>0.315738</td>\n",
       "      <td>0.363996</td>\n",
       "      <td>0.209815</td>\n",
       "      <td>...</td>\n",
       "      <td>0.388896</td>\n",
       "      <td>0.36729</td>\n",
       "      <td>0.173443</td>\n",
       "      <td>0.054602</td>\n",
       "      <td>0.012892</td>\n",
       "      <td>0.002435</td>\n",
       "      <td>0.000383</td>\n",
       "      <td>0</td>\n",
       "      <td>0</td>\n",
       "      <td>0</td>\n",
       "    </tr>\n",
       "    <tr>\n",
       "      <th>1</th>\n",
       "      <td>3508</td>\n",
       "      <td>2018_1_C</td>\n",
       "      <td>16</td>\n",
       "      <td>Necaxa</td>\n",
       "      <td>U.A.N.L.</td>\n",
       "      <td>1</td>\n",
       "      <td>1</td>\n",
       "      <td>0.250722</td>\n",
       "      <td>0.346851</td>\n",
       "      <td>0.239919</td>\n",
       "      <td>...</td>\n",
       "      <td>0.388896</td>\n",
       "      <td>0.36729</td>\n",
       "      <td>0.173443</td>\n",
       "      <td>0.054602</td>\n",
       "      <td>0.012892</td>\n",
       "      <td>0.002435</td>\n",
       "      <td>0.000383</td>\n",
       "      <td>0</td>\n",
       "      <td>0</td>\n",
       "      <td>0</td>\n",
       "    </tr>\n",
       "  </tbody>\n",
       "</table>\n",
       "<p>2 rows × 24 columns</p>\n",
       "</div>"
      ],
      "text/plain": [
       "   idPartido temporada  jornada EquipoLocal EquipoVisitante  Goles_L  Goles_V  \\\n",
       "0       3367  2018_1_C        1      Puebla        U.A.N.L.        2        1   \n",
       "1       3508  2018_1_C       16      Necaxa        U.A.N.L.        1        1   \n",
       "\n",
       "    P_GL(0)   P_GL(1)   P_GL(2)  ...   P_GV(0)  P_GV(1)   P_GV(2)   P_GV(3)  \\\n",
       "0  0.315738  0.363996  0.209815  ...  0.388896  0.36729  0.173443  0.054602   \n",
       "1  0.250722  0.346851  0.239919  ...  0.388896  0.36729  0.173443  0.054602   \n",
       "\n",
       "    P_GV(4)   P_GV(5)   P_GV(6)  P_Local  P_Visit  P_Empat  \n",
       "0  0.012892  0.002435  0.000383        0        0        0  \n",
       "1  0.012892  0.002435  0.000383        0        0        0  \n",
       "\n",
       "[2 rows x 24 columns]"
      ]
     },
     "metadata": {},
     "execution_count": 35
    }
   ],
   "metadata": {}
  },
  {
   "cell_type": "markdown",
   "source": [
    "El siguiente ´while´ es para multiplicar todas las probas marginales de que un equipo gane, es decir, la proba de que el local gane es: Todos aquellos resultados en los cuales el local anota más goles que el visitante, es por es que, se tiene que multiplicar\r\n",
    "$$ P[Local] = \\sum_{i<j}^n P[Goles_Local(i)] > P[Goles_Visitante(j)] $$"
   ],
   "metadata": {}
  },
  {
   "cell_type": "code",
   "execution_count": 36,
   "source": [
    "\r\n",
    "while max_goals > min_goals:\r\n",
    "    pre_final['P_Local'] = pre_final['P_Local'] + (pre_final[f'P_GL({max_goals})'] * pre_final[f'P_GV({max_goals - 1})'])\r\n",
    "    pre_final['P_Visit'] = pre_final['P_Visit'] + (pre_final[f'P_GV({max_goals})'] * pre_final[f'P_GL({max_goals - 1})'])\r\n",
    "    pre_final['P_Empat'] = pre_final['P_Empat'] + (pre_final[f'P_GL({max_goals})'] * pre_final[f'P_GV({max_goals})'])\r\n",
    "\r\n",
    "    max_goals -= 1"
   ],
   "outputs": [],
   "metadata": {}
  },
  {
   "cell_type": "code",
   "execution_count": 37,
   "source": [
    "pre_final.head(2)"
   ],
   "outputs": [
    {
     "output_type": "execute_result",
     "data": {
      "text/html": [
       "<div>\n",
       "<style scoped>\n",
       "    .dataframe tbody tr th:only-of-type {\n",
       "        vertical-align: middle;\n",
       "    }\n",
       "\n",
       "    .dataframe tbody tr th {\n",
       "        vertical-align: top;\n",
       "    }\n",
       "\n",
       "    .dataframe thead th {\n",
       "        text-align: right;\n",
       "    }\n",
       "</style>\n",
       "<table border=\"1\" class=\"dataframe\">\n",
       "  <thead>\n",
       "    <tr style=\"text-align: right;\">\n",
       "      <th></th>\n",
       "      <th>idPartido</th>\n",
       "      <th>temporada</th>\n",
       "      <th>jornada</th>\n",
       "      <th>EquipoLocal</th>\n",
       "      <th>EquipoVisitante</th>\n",
       "      <th>Goles_L</th>\n",
       "      <th>Goles_V</th>\n",
       "      <th>P_GL(0)</th>\n",
       "      <th>P_GL(1)</th>\n",
       "      <th>P_GL(2)</th>\n",
       "      <th>...</th>\n",
       "      <th>P_GV(0)</th>\n",
       "      <th>P_GV(1)</th>\n",
       "      <th>P_GV(2)</th>\n",
       "      <th>P_GV(3)</th>\n",
       "      <th>P_GV(4)</th>\n",
       "      <th>P_GV(5)</th>\n",
       "      <th>P_GV(6)</th>\n",
       "      <th>P_Local</th>\n",
       "      <th>P_Visit</th>\n",
       "      <th>P_Empat</th>\n",
       "    </tr>\n",
       "  </thead>\n",
       "  <tbody>\n",
       "    <tr>\n",
       "      <th>0</th>\n",
       "      <td>3367</td>\n",
       "      <td>2018_1_C</td>\n",
       "      <td>1</td>\n",
       "      <td>Puebla</td>\n",
       "      <td>U.A.N.L.</td>\n",
       "      <td>2</td>\n",
       "      <td>1</td>\n",
       "      <td>0.315738</td>\n",
       "      <td>0.363996</td>\n",
       "      <td>0.209815</td>\n",
       "      <td>...</td>\n",
       "      <td>0.388896</td>\n",
       "      <td>0.36729</td>\n",
       "      <td>0.173443</td>\n",
       "      <td>0.054602</td>\n",
       "      <td>0.012892</td>\n",
       "      <td>0.002435</td>\n",
       "      <td>0.000383</td>\n",
       "      <td>0.233944</td>\n",
       "      <td>0.191654</td>\n",
       "      <td>0.174799</td>\n",
       "    </tr>\n",
       "    <tr>\n",
       "      <th>1</th>\n",
       "      <td>3508</td>\n",
       "      <td>2018_1_C</td>\n",
       "      <td>16</td>\n",
       "      <td>Necaxa</td>\n",
       "      <td>U.A.N.L.</td>\n",
       "      <td>1</td>\n",
       "      <td>1</td>\n",
       "      <td>0.250722</td>\n",
       "      <td>0.346851</td>\n",
       "      <td>0.239919</td>\n",
       "      <td>...</td>\n",
       "      <td>0.388896</td>\n",
       "      <td>0.36729</td>\n",
       "      <td>0.173443</td>\n",
       "      <td>0.054602</td>\n",
       "      <td>0.012892</td>\n",
       "      <td>0.002435</td>\n",
       "      <td>0.000383</td>\n",
       "      <td>0.244430</td>\n",
       "      <td>0.166870</td>\n",
       "      <td>0.175568</td>\n",
       "    </tr>\n",
       "  </tbody>\n",
       "</table>\n",
       "<p>2 rows × 24 columns</p>\n",
       "</div>"
      ],
      "text/plain": [
       "   idPartido temporada  jornada EquipoLocal EquipoVisitante  Goles_L  Goles_V  \\\n",
       "0       3367  2018_1_C        1      Puebla        U.A.N.L.        2        1   \n",
       "1       3508  2018_1_C       16      Necaxa        U.A.N.L.        1        1   \n",
       "\n",
       "    P_GL(0)   P_GL(1)   P_GL(2)  ...   P_GV(0)  P_GV(1)   P_GV(2)   P_GV(3)  \\\n",
       "0  0.315738  0.363996  0.209815  ...  0.388896  0.36729  0.173443  0.054602   \n",
       "1  0.250722  0.346851  0.239919  ...  0.388896  0.36729  0.173443  0.054602   \n",
       "\n",
       "    P_GV(4)   P_GV(5)   P_GV(6)   P_Local   P_Visit   P_Empat  \n",
       "0  0.012892  0.002435  0.000383  0.233944  0.191654  0.174799  \n",
       "1  0.012892  0.002435  0.000383  0.244430  0.166870  0.175568  \n",
       "\n",
       "[2 rows x 24 columns]"
      ]
     },
     "metadata": {},
     "execution_count": 37
    }
   ],
   "metadata": {}
  },
  {
   "cell_type": "code",
   "execution_count": 38,
   "source": [
    "final = pre_final.copy()"
   ],
   "outputs": [],
   "metadata": {}
  },
  {
   "cell_type": "code",
   "execution_count": 39,
   "source": [
    "final = final[['temporada', 'jornada', 'EquipoLocal', 'EquipoVisitante',\r\n",
    "       'Goles_L', 'Goles_V', 'P_Local', 'P_Visit', 'P_Empat']]"
   ],
   "outputs": [],
   "metadata": {}
  },
  {
   "cell_type": "code",
   "execution_count": 40,
   "source": [
    "final['preds'] = 'SA'"
   ],
   "outputs": [],
   "metadata": {}
  },
  {
   "cell_type": "code",
   "execution_count": 41,
   "source": [
    "final.head(2)"
   ],
   "outputs": [
    {
     "output_type": "execute_result",
     "data": {
      "text/html": [
       "<div>\n",
       "<style scoped>\n",
       "    .dataframe tbody tr th:only-of-type {\n",
       "        vertical-align: middle;\n",
       "    }\n",
       "\n",
       "    .dataframe tbody tr th {\n",
       "        vertical-align: top;\n",
       "    }\n",
       "\n",
       "    .dataframe thead th {\n",
       "        text-align: right;\n",
       "    }\n",
       "</style>\n",
       "<table border=\"1\" class=\"dataframe\">\n",
       "  <thead>\n",
       "    <tr style=\"text-align: right;\">\n",
       "      <th></th>\n",
       "      <th>temporada</th>\n",
       "      <th>jornada</th>\n",
       "      <th>EquipoLocal</th>\n",
       "      <th>EquipoVisitante</th>\n",
       "      <th>Goles_L</th>\n",
       "      <th>Goles_V</th>\n",
       "      <th>P_Local</th>\n",
       "      <th>P_Visit</th>\n",
       "      <th>P_Empat</th>\n",
       "      <th>preds</th>\n",
       "    </tr>\n",
       "  </thead>\n",
       "  <tbody>\n",
       "    <tr>\n",
       "      <th>0</th>\n",
       "      <td>2018_1_C</td>\n",
       "      <td>1</td>\n",
       "      <td>Puebla</td>\n",
       "      <td>U.A.N.L.</td>\n",
       "      <td>2</td>\n",
       "      <td>1</td>\n",
       "      <td>0.233944</td>\n",
       "      <td>0.191654</td>\n",
       "      <td>0.174799</td>\n",
       "      <td>SA</td>\n",
       "    </tr>\n",
       "    <tr>\n",
       "      <th>1</th>\n",
       "      <td>2018_1_C</td>\n",
       "      <td>16</td>\n",
       "      <td>Necaxa</td>\n",
       "      <td>U.A.N.L.</td>\n",
       "      <td>1</td>\n",
       "      <td>1</td>\n",
       "      <td>0.244430</td>\n",
       "      <td>0.166870</td>\n",
       "      <td>0.175568</td>\n",
       "      <td>SA</td>\n",
       "    </tr>\n",
       "  </tbody>\n",
       "</table>\n",
       "</div>"
      ],
      "text/plain": [
       "  temporada  jornada EquipoLocal EquipoVisitante  Goles_L  Goles_V   P_Local  \\\n",
       "0  2018_1_C        1      Puebla        U.A.N.L.        2        1  0.233944   \n",
       "1  2018_1_C       16      Necaxa        U.A.N.L.        1        1  0.244430   \n",
       "\n",
       "    P_Visit   P_Empat preds  \n",
       "0  0.191654  0.174799    SA  \n",
       "1  0.166870  0.175568    SA  "
      ]
     },
     "metadata": {},
     "execution_count": 41
    }
   ],
   "metadata": {}
  },
  {
   "cell_type": "code",
   "execution_count": 42,
   "source": [
    "# asignacion de variable gana local\r\n",
    "mask_local = (final['P_Local'] > final['P_Visit'])\r\n",
    "final.loc[mask_local, 'preds'] = 'L'\r\n",
    "\r\n",
    "# asignacion de variable gana visitante\r\n",
    "mask_visit = (final['P_Local'] < final['P_Visit'])\r\n",
    "final.loc[mask_visit, 'preds'] = 'V'\r\n",
    "\r\n",
    "# asignacion de variable empate\r\n",
    "mask_empt = (( (final['P_Empat'] > final['P_Local']) & (final['P_Empat'] > final['P_Visit']) ) \r\n",
    "            | ((abs(final['P_Local'] - final['P_Visit'])) < 0.05) )\r\n",
    "final.loc[mask_empt, 'preds'] = 'E'"
   ],
   "outputs": [],
   "metadata": {}
  },
  {
   "cell_type": "code",
   "execution_count": 43,
   "source": [
    "# etiqueta de resultados reales\r\n",
    "final['result'] = 'SA'\r\n",
    "\r\n",
    "res_local = ( final['Goles_L'] > final['Goles_V'] )\r\n",
    "res_visit = ( final['Goles_L'] < final['Goles_V'] )\r\n",
    "res_empat = ( final['Goles_L'] == final['Goles_V'] )\r\n",
    "\r\n",
    "final.loc[res_local, 'result'] = 'L'\r\n",
    "final.loc[res_visit, 'result'] = 'V'\r\n",
    "final.loc[res_empat, 'result'] = 'E'"
   ],
   "outputs": [],
   "metadata": {}
  },
  {
   "cell_type": "code",
   "execution_count": 44,
   "source": [
    "final['preds'].value_counts(), final['result'].value_counts() "
   ],
   "outputs": [
    {
     "output_type": "execute_result",
     "data": {
      "text/plain": [
       "(L    66\n",
       " E    49\n",
       " V    38\n",
       " Name: preds, dtype: int64,\n",
       " L    67\n",
       " E    45\n",
       " V    41\n",
       " Name: result, dtype: int64)"
      ]
     },
     "metadata": {},
     "execution_count": 44
    }
   ],
   "metadata": {}
  },
  {
   "cell_type": "markdown",
   "source": [
    "El modelo al menos en proporciones las respeta, pero nos interesa saber, cuantas predicciones correctas se hicieron"
   ],
   "metadata": {}
  },
  {
   "cell_type": "code",
   "execution_count": 45,
   "source": [
    "final.head(2)"
   ],
   "outputs": [
    {
     "output_type": "execute_result",
     "data": {
      "text/html": [
       "<div>\n",
       "<style scoped>\n",
       "    .dataframe tbody tr th:only-of-type {\n",
       "        vertical-align: middle;\n",
       "    }\n",
       "\n",
       "    .dataframe tbody tr th {\n",
       "        vertical-align: top;\n",
       "    }\n",
       "\n",
       "    .dataframe thead th {\n",
       "        text-align: right;\n",
       "    }\n",
       "</style>\n",
       "<table border=\"1\" class=\"dataframe\">\n",
       "  <thead>\n",
       "    <tr style=\"text-align: right;\">\n",
       "      <th></th>\n",
       "      <th>temporada</th>\n",
       "      <th>jornada</th>\n",
       "      <th>EquipoLocal</th>\n",
       "      <th>EquipoVisitante</th>\n",
       "      <th>Goles_L</th>\n",
       "      <th>Goles_V</th>\n",
       "      <th>P_Local</th>\n",
       "      <th>P_Visit</th>\n",
       "      <th>P_Empat</th>\n",
       "      <th>preds</th>\n",
       "      <th>result</th>\n",
       "    </tr>\n",
       "  </thead>\n",
       "  <tbody>\n",
       "    <tr>\n",
       "      <th>0</th>\n",
       "      <td>2018_1_C</td>\n",
       "      <td>1</td>\n",
       "      <td>Puebla</td>\n",
       "      <td>U.A.N.L.</td>\n",
       "      <td>2</td>\n",
       "      <td>1</td>\n",
       "      <td>0.233944</td>\n",
       "      <td>0.191654</td>\n",
       "      <td>0.174799</td>\n",
       "      <td>E</td>\n",
       "      <td>L</td>\n",
       "    </tr>\n",
       "    <tr>\n",
       "      <th>1</th>\n",
       "      <td>2018_1_C</td>\n",
       "      <td>16</td>\n",
       "      <td>Necaxa</td>\n",
       "      <td>U.A.N.L.</td>\n",
       "      <td>1</td>\n",
       "      <td>1</td>\n",
       "      <td>0.244430</td>\n",
       "      <td>0.166870</td>\n",
       "      <td>0.175568</td>\n",
       "      <td>L</td>\n",
       "      <td>E</td>\n",
       "    </tr>\n",
       "  </tbody>\n",
       "</table>\n",
       "</div>"
      ],
      "text/plain": [
       "  temporada  jornada EquipoLocal EquipoVisitante  Goles_L  Goles_V   P_Local  \\\n",
       "0  2018_1_C        1      Puebla        U.A.N.L.        2        1  0.233944   \n",
       "1  2018_1_C       16      Necaxa        U.A.N.L.        1        1  0.244430   \n",
       "\n",
       "    P_Visit   P_Empat preds result  \n",
       "0  0.191654  0.174799     E      L  \n",
       "1  0.166870  0.175568     L      E  "
      ]
     },
     "metadata": {},
     "execution_count": 45
    }
   ],
   "metadata": {}
  },
  {
   "cell_type": "code",
   "execution_count": 46,
   "source": [
    "acuracy = final['preds'] == final['result']"
   ],
   "outputs": [],
   "metadata": {}
  },
  {
   "cell_type": "code",
   "execution_count": 47,
   "source": [
    "x = list(acuracy.value_counts())\r\n",
    "\r\n",
    "precision = x[1] / sum(x)\r\n",
    "print(f'La precision del modelo es de {round(precision*100,2)} %')"
   ],
   "outputs": [
    {
     "output_type": "stream",
     "name": "stdout",
     "text": [
      "La precision del modelo es de 40.52 %\n"
     ]
    }
   ],
   "metadata": {}
  },
  {
   "cell_type": "markdown",
   "source": [
    "Elaborado por: Ramirez Montes Jonathan Natael"
   ],
   "metadata": {}
  }
 ],
 "metadata": {
  "orig_nbformat": 4,
  "language_info": {
   "name": "python",
   "version": "3.8.8",
   "mimetype": "text/x-python",
   "codemirror_mode": {
    "name": "ipython",
    "version": 3
   },
   "pygments_lexer": "ipython3",
   "nbconvert_exporter": "python",
   "file_extension": ".py"
  },
  "kernelspec": {
   "name": "python3",
   "display_name": "Python 3.8.8 64-bit ('base': conda)"
  },
  "interpreter": {
   "hash": "600c25c12856a842ab64bd468beca1647a20977f2accb2696f130eafa2c53eb8"
  }
 },
 "nbformat": 4,
 "nbformat_minor": 2
}